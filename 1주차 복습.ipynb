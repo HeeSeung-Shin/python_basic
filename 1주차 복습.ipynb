{
 "cells": [
  {
   "cell_type": "markdown",
   "metadata": {},
   "source": [
    "# 파이썬의 기본문법\n",
    "### 인프런 프로그래밍 시작하기 : 파이썬 입문 (Inflearn Original)\n",
    "### 상명대학교 김민정 교수님 python을 활용한 데이터 분석 따라하기"
   ]
  },
  {
   "cell_type": "markdown",
   "metadata": {},
   "source": [
    "- ### 변수:데이터 또는 자료를 담을 수 있는 메모리의 저장소\n",
    "    - 규칙\n",
    "        - 영문 대소문자,_,숫자로 구성\n",
    "        - 숫자로 시작 불가\n",
    "        - 정확하고 간단하게 변수 이름을 만드는 것이 원칙\n",
    "        - 예약어 사용 금지(변수, 함수, 클래스 등을 사용자 정의 이름으로 사용할 수 없음)\n",
    "        하려면 _을 붙이자"
   ]
  },
  {
   "cell_type": "code",
   "execution_count": 2,
   "metadata": {},
   "outputs": [],
   "source": [
    "#저장공간에 값을 생성하고 이름을 지정하기\n",
    "a = 2        #int-정수\n",
    "b = 10.2     #float-실수\n",
    "c = \"파이썬\" #str -문자열"
   ]
  },
  {
   "cell_type": "code",
   "execution_count": 5,
   "metadata": {},
   "outputs": [
    {
     "name": "stdout",
     "output_type": "stream",
     "text": [
      "2 10.2 파이썬\n",
      "2,10.2,파이썬\n",
      "2 10.2 파이썬@"
     ]
    }
   ],
   "source": [
    "#출력을 통한 변수 값 확인하기\n",
    "print(a, b, c)\n",
    "\n",
    "#sep:구분자, 출력할 변수 사이에서 구별하는 역할을함\n",
    "print(a,b,c, sep=\",\")\n",
    "\n",
    "#end: 마지막에 출력할 문자열\n",
    "print(a,b,c, end=\"@\")"
   ]
  },
  {
   "cell_type": "code",
   "execution_count": 7,
   "metadata": {},
   "outputs": [
    {
     "name": "stdout",
     "output_type": "stream",
     "text": [
      "<class 'int'>\n",
      "<class 'float'>\n",
      "<class 'str'>\n",
      "<class 'bool'>\n"
     ]
    }
   ],
   "source": [
    "# type 함수를 이용한 해당 변수, 값의 타입 알아보기\n",
    "a = 2     \n",
    "b = 10.2\n",
    "c = \"파이썬\"\n",
    "d= True\n",
    "\n",
    "print(type(a))\n",
    "print(type(b))\n",
    "print(type(c))\n",
    "print(type(d))"
   ]
  },
  {
   "cell_type": "code",
   "execution_count": 8,
   "metadata": {
    "scrolled": true
   },
   "outputs": [
    {
     "name": "stdout",
     "output_type": "stream",
     "text": [
      "None\n"
     ]
    }
   ],
   "source": [
    "#None 함수 -아무런 값을 갖지 않을때 사용, 일반적으로 변수가 초기 값을 갖지 않게 하여 해당 변수 생성시 사용\n",
    "x =None\n",
    "print(x)"
   ]
  },
  {
   "cell_type": "code",
   "execution_count": 9,
   "metadata": {
    "scrolled": true
   },
   "outputs": [
    {
     "name": "stdout",
     "output_type": "stream",
     "text": [
      "8\n",
      "2\n",
      "15\n",
      "125\n",
      "1.6666666666666667\n",
      "1\n",
      "2\n"
     ]
    }
   ],
   "source": [
    "# 숫자형 데이터 타입(int, float)의 사칙연산\n",
    "a=5\n",
    "b=3\n",
    "\n",
    "print(a + b)# 덧셈\n",
    "print(a - b)#뺄셈\n",
    "print(a * b)#곱셈\n",
    "print(a ** b)#제곱\n",
    "print(a / b)#나눗셈\n",
    "print(a // b)#나눗셈(몫)\n",
    "print(a % b)#나눗셈(나머지)"
   ]
  },
  {
   "cell_type": "code",
   "execution_count": 10,
   "metadata": {},
   "outputs": [
    {
     "name": "stdout",
     "output_type": "stream",
     "text": [
      "False\n",
      "True\n",
      "True\n",
      "False\n",
      "True\n",
      "False\n"
     ]
    }
   ],
   "source": [
    "# 숫자형 데이터 타입 비교 연산\n",
    "a=5\n",
    "b=3\n",
    "\n",
    "print(a == b) #같은가?\n",
    "print(a != b) #다른가?\n",
    "print(a > b)  #왼쪽이 더 큰가?\n",
    "print(a < b)  #오른쪽이 더 큰가?\n",
    "print(a >= b) #왼쪽이 더 크거나 갑나?\n",
    "print(a <= b) #오른쪽이 더 크거나 같나?"
   ]
  },
  {
   "cell_type": "code",
   "execution_count": 11,
   "metadata": {},
   "outputs": [
    {
     "name": "stdout",
     "output_type": "stream",
     "text": [
      "Hi\n"
     ]
    }
   ],
   "source": [
    "#문자형 데이터 타입 표현(한줄)\n",
    "a='Hi'\n",
    "print(a)"
   ]
  },
  {
   "cell_type": "code",
   "execution_count": 13,
   "metadata": {
    "scrolled": true
   },
   "outputs": [
    {
     "name": "stdout",
     "output_type": "stream",
     "text": [
      "Hi\n",
      "Hello\n"
     ]
    }
   ],
   "source": [
    "#문자형 데이터 타입 표현(여러줄) ->''' '''or \"\"\" \"\"\"이용\n",
    "b='''Hi\n",
    "Hello'''\n",
    "print(b)"
   ]
  },
  {
   "cell_type": "code",
   "execution_count": 14,
   "metadata": {
    "scrolled": true
   },
   "outputs": [
    {
     "name": "stdout",
     "output_type": "stream",
     "text": [
      "Hi\n",
      "\n",
      "H\ti\n"
     ]
    }
   ],
   "source": [
    "#이스케이프 문자: 일부 문자의 의미를 달리하여 특정한 효과 주는 것\n",
    "print(\"Hi\\n\") #\\n:한줄 밑으로\n",
    "print(\"H\\ti\") #\\t 텝"
   ]
  },
  {
   "cell_type": "code",
   "execution_count": 18,
   "metadata": {},
   "outputs": [
    {
     "name": "stdout",
     "output_type": "stream",
     "text": [
      "5\n",
      "e\n",
      "o\n"
     ]
    }
   ],
   "source": [
    "#문자열의 index:문자열의 순서\n",
    "a= 'Hello'\n",
    "\n",
    "print(len(a)) #len():길이표현\n",
    "print(a[1]) #a[n] a의 n번째 인덱스 표현  (0부터 시작임)\n",
    "print(a[-1]) #음수 사용시 뒤에서부터 시작\n",
    "print(a[1:3]) #슬라이싱 a[시작:끝]:시작~(끝-1) 인덱스까지 출력"
   ]
  },
  {
   "cell_type": "code",
   "execution_count": 20,
   "metadata": {
    "scrolled": true
   },
   "outputs": [
    {
     "data": {
      "text/plain": [
       "'Hallo'"
      ]
     },
     "execution_count": 20,
     "metadata": {},
     "output_type": "execute_result"
    }
   ],
   "source": [
    "#문자열 함수 기초\n",
    "a= 'Hello'\n",
    "a.upper()  #모두 대문자로\n",
    "a.replace(\"e\",\"a\")#문자열 내의 특정 문자를 치환 e를 a로 바꾼거\n",
    "a.split() #문자열을 특정한 문자로 구분 빈칸이면  공백으로 구분함[결과는 리스트로 치환]"
   ]
  },
  {
   "cell_type": "markdown",
   "metadata": {},
   "source": [
    "# list[]\n",
    "   (순서o, 중복o, 수정o, 삭제o)"
   ]
  },
  {
   "cell_type": "code",
   "execution_count": 51,
   "metadata": {},
   "outputs": [],
   "source": [
    "#리스트 생성 list()이용 가능\n",
    "a =[1, 2, 3, 4, 5]\n",
    "b = \"Hello\"\n",
    "c = list(b) #문자열을 리스트로 만들면 한 글자씩 리스트에 포함\n",
    "d =[1,2,\"Hi\",\"Hello\",[3,4]] #문자열, 정수, 리스트모두 리스트에 넣을수 있다\n",
    "e =range(10) #내장함수 range이용하여 쉽게 리스트 만들수 있다."
   ]
  },
  {
   "cell_type": "code",
   "execution_count": 23,
   "metadata": {},
   "outputs": [
    {
     "name": "stdout",
     "output_type": "stream",
     "text": [
      "2\n",
      "['e', 'l']\n",
      "4\n"
     ]
    }
   ],
   "source": [
    "#리스트 인덱싱과 슬라이싱\n",
    "a =[1, 2, 3, 4, 5]\n",
    "b = \"Hello\"\n",
    "c = list(b) \n",
    "d =[1,2,\"Hi\",\"Hello\",[3,4]]\n",
    "\n",
    "print(a[1])\n",
    "print(c[1:3])\n",
    "print(d[-1][1]) #해당 인덱스에 리스트가 있으면 한번더 인덱싱 가능"
   ]
  },
  {
   "cell_type": "code",
   "execution_count": 30,
   "metadata": {},
   "outputs": [
    {
     "name": "stdout",
     "output_type": "stream",
     "text": [
      "[1, 2, 3, 4, 5, 10]\n",
      "[1, 2, 3, 4, 5, 10, 'H', 'e', 'l', 'l', 'o']\n",
      "[2, 3, 4, 5, 10, 'H', 'e', 'l', 'l', 'o']\n",
      "[2, 6, 3, 4, 5, 10, 'H', 'e', 'l', 'l', 'o']\n",
      "[2, 6, 3, 4, 5, 10, 'H', 'e', 'l', 'l']\n",
      "3\n",
      "True\n",
      "[1, 3, 4, 5, 7, 8]\n"
     ]
    }
   ],
   "source": [
    "#주요 함수\n",
    "a =[1, 2, 3, 4, 5]\n",
    "b = \"Hello\"\n",
    "c = list(b) \n",
    "d=[7,5,4,8,3,1]\n",
    "a.append(10) #리스트 끝에 항목 추가\n",
    "print(a)\n",
    "a.extend(c) #리스트 연장\n",
    "print(a)\n",
    "a.remove(1) #항목 제거\n",
    "print(a)\n",
    "a.insert(1,6) #앞에는 인덱스, 뒤에는 항목을 입력하면 해당 인덱스에 항목 추가\n",
    "print(a)\n",
    "a.pop() #지우고자 하는 아이템을 반환후 삭제\n",
    "print(a)\n",
    "print(a.index(4)) #.index()찾고자 하는 값의 인덱스 반환\n",
    "c= 4 in a #in: 찾고자하는 값이 리스트 내에 있는지 True/False로 표현\n",
    "print(c)\n",
    "d.sort() #오름 차순 정리 내림 차순 정리시 reverse=True를 괄호안에 넣기\n",
    "print(d) #sorted()정렬된 리스트의 본사본 반환하기"
   ]
  },
  {
   "cell_type": "markdown",
   "metadata": {},
   "source": [
    "# tuple()\n",
    " (순서o, 중복o, 수정x, 삭제x)"
   ]
  },
  {
   "cell_type": "code",
   "execution_count": 34,
   "metadata": {},
   "outputs": [
    {
     "name": "stdout",
     "output_type": "stream",
     "text": [
      "10 20\n"
     ]
    }
   ],
   "source": [
    "#튜플 생성 #tuple()이용 가능\n",
    "a=(1,2,3)\n",
    "b=(1,2,3,(4, 5, 6)) #튜플안에 튜플가능\n",
    "#튜플 언페킹 :튜플의 값을 차례대로 변수에 대임\n",
    "c, d = 10, 20\n",
    "print(c,d)\n",
    "#순서가 있으니 인덱싱도 가능하다."
   ]
  },
  {
   "cell_type": "markdown",
   "metadata": {},
   "source": [
    "# dictionary{}\n",
    "(순서x, 키 중복x, 수정o, 삭제o)\n"
   ]
  },
  {
   "cell_type": "code",
   "execution_count": 39,
   "metadata": {},
   "outputs": [
    {
     "name": "stdout",
     "output_type": "stream",
     "text": [
      "{'A': 'apple', 'B': 'banana', 'C': 'carrot'}\n",
      "{'A': 'apple', 'B': 'banana', 'C': 'carrot', 'M': 'mango'}\n",
      "{'A': 'apple', 'B': 'banana', 'C': 'carrot', 'M': 'melon'}\n"
     ]
    }
   ],
   "source": [
    "#사전형 자료 생성 #dict()이용 가능\n",
    "a= {\"A\":\"apple\", \"B\":\"banana\",\"C\":\"carrot\"}\n",
    "print(a)\n",
    "#항목 추가\n",
    "a[\"M\"]= \"mango\"\n",
    "print(a)\n",
    "#항목 변경\n",
    "a[\"M\"]=\"melon\"\n",
    "print(a)"
   ]
  },
  {
   "cell_type": "code",
   "execution_count": 40,
   "metadata": {},
   "outputs": [
    {
     "name": "stdout",
     "output_type": "stream",
     "text": [
      "{'a': 2, 'b': 2, 'c': 3, 'd': 3, 'e': 4}\n"
     ]
    }
   ],
   "source": [
    "# 주요 함수\n",
    "a = {\"a\":1, \"b\":2, \"c\":3}\n",
    "b = {\"a\":2, \"d\":3 , \"e\":4}\n",
    "\n",
    "a.update(b) #update():두 딕셔너리 병합, 겹치는키가 있다면 전돨되는 키의 값이 덮어쓰기 됨\n",
    "print(a)\n",
    "a.pop(\"e\")#키 삭제\n",
    "print(a)\n",
    "del a[\"d\"]#키삭제 (del은 범용적으로 사용)\n",
    "print(a)\n",
    "a.clear() #딕셔너리의 모든 값 초기화\n",
    "print(a)\n"
   ]
  },
  {
   "cell_type": "code",
   "execution_count": 47,
   "metadata": {},
   "outputs": [
    {
     "name": "stdout",
     "output_type": "stream",
     "text": [
      "True\n",
      "1\n",
      "1\n"
     ]
    },
    {
     "data": {
      "text/plain": [
       "dict_keys(['a', 'b', 'c'])"
      ]
     },
     "execution_count": 47,
     "metadata": {},
     "output_type": "execute_result"
    }
   ],
   "source": [
    "a = {\"a\":1, \"b\":2, \"c\":3}\n",
    "print(\"b\" in a) #in :키값이 존재하는지 True or False로 표현\n",
    "print(a[\"a\"]) #a[\"Key\"]\"해당키의 값 반환 만약 해당 키가 없으면 에러 발생\n",
    "print(a.get(\"a\")) #get(\"key\"):해당 키의 값 반환 만약 해당 키가 없으면 none으로 표시\n",
    "a.keys() #키만 반환\n",
    "a.values()#값만 반환\n",
    "a.itmes() #(키,값)으로 반환"
   ]
  },
  {
   "cell_type": "markdown",
   "metadata": {},
   "source": [
    "# SET {only key}\n",
    "(순서x, 중복x)"
   ]
  },
  {
   "cell_type": "code",
   "execution_count": 49,
   "metadata": {},
   "outputs": [
    {
     "name": "stdout",
     "output_type": "stream",
     "text": [
      "{1, 2, 3, 4, 5, 8, 10}\n",
      "{1, 2, 5}\n",
      "{3, 4}\n"
     ]
    }
   ],
   "source": [
    "#집합의 생성 set()이용가능\n",
    "a= {1, 2, 3, 4, 5}\n",
    "b ={1, 2, 5, 8, 10}\n",
    "\n",
    "#연산\n",
    "print(a.union(b)) #a,b의 합집합\n",
    "print(a.intersection(b)) #a,b의 교집합\n",
    "print(a.difference(b)) #a-b (차집합)"
   ]
  }
 ],
 "metadata": {
  "kernelspec": {
   "display_name": "Python 3",
   "language": "python",
   "name": "python3"
  },
  "language_info": {
   "codemirror_mode": {
    "name": "ipython",
    "version": 3
   },
   "file_extension": ".py",
   "mimetype": "text/x-python",
   "name": "python",
   "nbconvert_exporter": "python",
   "pygments_lexer": "ipython3",
   "version": "3.8.5"
  }
 },
 "nbformat": 4,
 "nbformat_minor": 4
}
